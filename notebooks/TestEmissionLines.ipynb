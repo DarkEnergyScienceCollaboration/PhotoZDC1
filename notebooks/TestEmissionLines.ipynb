{
 "cells": [
  {
   "cell_type": "code",
   "execution_count": 195,
   "metadata": {
    "collapsed": false
   },
   "outputs": [],
   "source": [
    "import continuum_pc_emlines as cpe\n",
    "import time"
   ]
  },
  {
   "cell_type": "markdown",
   "metadata": {},
   "source": [
    "# Create the SED continua to read in"
   ]
  },
  {
   "cell_type": "code",
   "execution_count": 196,
   "metadata": {
    "collapsed": false
   },
   "outputs": [
    {
     "name": "stdout",
     "output_type": "stream",
     "text": [
      "finishing  7.25268349289 %\n",
      "finishing  14.5053669858 %\n",
      "finishing  21.7580504787 %\n",
      "finishing  29.0107339716 %\n",
      "finishing  36.2634174645 %\n",
      "finishing  43.5161009574 %\n",
      "finishing  50.7687844502 %\n",
      "finishing  58.0214679431 %\n",
      "finishing  65.274151436 %\n",
      "finishing  72.5268349289 %\n",
      "finishing  79.7795184218 %\n",
      "finishing  87.0322019147 %\n",
      "finishing  94.2848854076 %\n",
      "Time to process spectra = 461.74068594\n",
      "Number of spectra = 13788\n"
     ]
    }
   ],
   "source": [
    "import numpy as np\n",
    "\n",
    "# create wl grid file\n",
    "wl_grid_file = '/mnt/drive2/BeckData/ProcessedData/wl_grid.txt'\n",
    "wl_grid = np.arange(1000.,12000.,10.)\n",
    "np.savetxt(wl_grid_file, wl_grid)\n",
    "\n",
    "# this is where the logEW data are stored\n",
    "gal_sample_file = '/mnt/drive2/BeckData/Spectra/galaxy_sample.txt'\n",
    "\n",
    "# directory to output processed SDSS spectra continua\n",
    "output_dir = '/mnt/drive2/BeckData/ProcessedData/'\n",
    "\n",
    "# process all the spectra (save as separate files)\n",
    "start_time = time.time()\n",
    "nn = cpe.inp_spec(wl_grid_file, gal_sample_file, output_dir)\n",
    "end_time = time.time()\n",
    "print \"Time to process spectra =\", end_time-start_time\n",
    "print \"Number of spectra =\", nn"
   ]
  },
  {
   "cell_type": "code",
   "execution_count": 197,
   "metadata": {
    "collapsed": false
   },
   "outputs": [
    {
     "name": "stdout",
     "output_type": "stream",
     "text": [
      "finishing  7.25268349289 %\n",
      "finishing  14.5053669858 %\n",
      "finishing  21.7580504787 %\n",
      "finishing  29.0107339716 %\n",
      "finishing  36.2634174645 %\n",
      "finishing  43.5161009574 %\n",
      "finishing  50.7687844502 %\n",
      "finishing  58.0214679431 %\n",
      "finishing  65.274151436 %\n",
      "finishing  72.5268349289 %\n",
      "finishing  79.7795184218 %\n",
      "finishing  87.0322019147 %\n",
      "finishing  94.2848854076 %\n"
     ]
    }
   ],
   "source": [
    "# accumulate all continua in one file\n",
    "outfile = output_dir + \"spec_all.txt\"\n",
    "cpe.sum_spec(wl_grid_file, spectra_dir, nn, outfile)"
   ]
  },
  {
   "cell_type": "markdown",
   "metadata": {},
   "source": [
    "# Compute the continua PC's"
   ]
  },
  {
   "cell_type": "code",
   "execution_count": 198,
   "metadata": {
    "collapsed": false
   },
   "outputs": [
    {
     "name": "stdout",
     "output_type": "stream",
     "text": [
      "loading finished\n",
      "starting SVD\n",
      "finishing\n",
      "Time to calculate continuum PC's = 74.7346639633\n"
     ]
    }
   ],
   "source": [
    "# file the continua are stored in\n",
    "continua_file = outfile\n",
    "\n",
    "# fileroot to write out PCA files to\n",
    "outroot = '/mnt/drive2/BeckData/PCA/sdss_spec'\n",
    "\n",
    "start_time = time.time()\n",
    "contPCs = cpe.compute_eig_vec(continua_file, outroot, ndims=50)\n",
    "end_time = time.time()\n",
    "print \"Time to calculate continuum PC's =\", end_time-start_time"
   ]
  },
  {
   "cell_type": "markdown",
   "metadata": {},
   "source": [
    "# Compare to Zongge's original code's calculation\n"
   ]
  },
  {
   "cell_type": "code",
   "execution_count": 199,
   "metadata": {
    "collapsed": false
   },
   "outputs": [
    {
     "name": "stdout",
     "output_type": "stream",
     "text": [
      "0.0 0.0 0.0 0.0 0.0\n",
      "0.0 0.0 0.0 0.0 0.0\n",
      "0.0 0.0 0.0 0.0 0.0\n",
      "0.0 0.0 0.0 0.0 0.0\n",
      "0.0 0.0 0.0 0.0 0.0\n"
     ]
    },
    {
     "data": {
      "image/png": "[encoded data removed]",
      "text/plain": [
       "<matplotlib.figure.Figure at 0x7fa8c7084f90>"
      ]
     },
     "metadata": {},
     "output_type": "display_data"
    }
   ],
   "source": [
    "contPCs_zongge = np.loadtxt('/mnt/drive2/repos/zongge/emissionline/mycontPCA.txt')\n",
    "\n",
    "fig = plt.figure(figsize=(10,10))\n",
    "for i in range(5):\n",
    "    \n",
    "    ax = fig.add_subplot(3,2,i+1)\n",
    "    ax.hist(contPCs[:,i]-contPCs_zongge[:,i])\n",
    "    \n",
    "    print np.min(contPCs[:,i]-contPCs_zongge[:,i]), \n",
    "    print np.mean(abs(contPCs[:,i]-contPCs_zongge[:,i])), \n",
    "    print np.std(abs(contPCs[:,i]-contPCs_zongge[:,i])),\n",
    "    \n",
    "    print np.sort(abs(contPCs[:,i]-contPCs_zongge[:,i]))[-1],\n",
    "    print np.sort(abs(contPCs[:,i]-contPCs_zongge[:,i]))[0]"
   ]
  },
  {
   "cell_type": "markdown",
   "metadata": {},
   "source": [
    "# Test logEW predictions\n",
    "\n",
    "The `EmLinePaste` class below will be initialised as shown, and then called on each simulated galaxy spectrum to add emission lines to it."
   ]
  },
  {
   "cell_type": "code",
   "execution_count": null,
   "metadata": {
    "collapsed": false
   },
   "outputs": [],
   "source": [
    "continua_pc_file = '/mnt/drive2/BeckData/PCA/sdss_spec_50PCs.txt'\n",
    "eigenV_file = '/mnt/drive2/BeckData/PCA/sdss_spec_eigenV.txt'\n",
    "mean_spec_file = '/mnt/drive2/BeckData/PCA/sdss_spec_specMean.txt'\n",
    "npc = 5\n",
    "elp = cpe.EmLinePaste(continua_pc_file, eigenV_file, mean_spec_file, \n",
    "                       gal_sample_file, wl_grid_file, npc)"
   ]
  },
  {
   "cell_type": "markdown",
   "metadata": {},
   "source": [
    "Below is a test of separate methods in the unfinished class `EmLinePaste`. In the final version of the class, there will be a single method that calls `_re_grid_wl()`, `_get_query_spec_pcs()`, `_pred_logEW()`, then a method that adds the emission lines onto the original spectrum and returns it will be called."
   ]
  },
  {
   "cell_type": "code",
   "execution_count": null,
   "metadata": {
    "collapsed": false
   },
   "outputs": [],
   "source": [
    "# zongge's est_ems\n",
    "estem_zl = np.loadtxt('/mnt/drive2/repos/zongge/emissionline/est_ems.txt')\n",
    "\n",
    "# my processed continua\n",
    "spec_me = np.loadtxt('/mnt/drive2/BeckData/ProcessedData/spec_all.txt')\n",
    "\n",
    "kNN = 30\n",
    "estem = np.zeros((nn,10))\n",
    "for i in np.arange(nn):\n",
    "    \n",
    "    # re-grid the spectrum\n",
    "    spec = elp._re_grid_wl(wl_grid, spec_me[i,:])\n",
    "\n",
    "    # the 5 continuum PC's for this spectrum\n",
    "    proj = elp._get_query_spec_pcs(spec)\n",
    "    \n",
    "    # predict emission line\n",
    "    estem[i], _ = elp._pred_logEW(proj, kNN)\n",
    "    "
   ]
  },
  {
   "cell_type": "code",
   "execution_count": null,
   "metadata": {
    "collapsed": false
   },
   "outputs": [],
   "source": [
    "fig = plt.figure(figsize=(10,10))\n",
    "for i in range(10):\n",
    "    \n",
    "    ax = fig.add_subplot(5,2,i+1)\n",
    "    ax.plot(estem[:,i], estem_zl[:,i], linestyle='none', marker='.')\n",
    "    xlims = ax.get_xlim()\n",
    "    ylims = ax.get_ylim()\n",
    "    axmin = np.min([xlims[0], ylims[0]])\n",
    "    axmax = np.max([xlims[1], ylims[1]])\n",
    "    ax.plot([axmin, axmax], [axmin, axmax], color='black')"
   ]
  },
  {
   "cell_type": "code",
   "execution_count": null,
   "metadata": {
    "collapsed": true
   },
   "outputs": [],
   "source": []
  }
 ],
 "metadata": {
  "kernelspec": {
   "display_name": "Python 2",
   "language": "python",
   "name": "python2"
  },
  "language_info": {
   "codemirror_mode": {
    "name": "ipython",
    "version": 2
   },
   "file_extension": ".py",
   "mimetype": "text/x-python",
   "name": "python",
   "nbconvert_exporter": "python",
   "pygments_lexer": "ipython2",
   "version": "2.7.11"
  }
 },
 "nbformat": 4,
 "nbformat_minor": 0
}
